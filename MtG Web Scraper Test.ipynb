{
 "cells": [
  {
   "cell_type": "markdown",
   "metadata": {},
   "source": [
    "# Magic: The Gathering Web Scaper Test\n",
    "Testing for web scraper development."
   ]
  },
  {
   "cell_type": "code",
   "execution_count": 1,
   "metadata": {},
   "outputs": [],
   "source": [
    "import pandas as pd\n",
    "import re"
   ]
  },
  {
   "cell_type": "code",
   "execution_count": 168,
   "metadata": {},
   "outputs": [],
   "source": [
    "data = pd.read_csv('data/output.csv')"
   ]
  },
  {
   "cell_type": "code",
   "execution_count": 169,
   "metadata": {},
   "outputs": [
    {
     "data": {
      "text/html": [
       "<div>\n",
       "<style scoped>\n",
       "    .dataframe tbody tr th:only-of-type {\n",
       "        vertical-align: middle;\n",
       "    }\n",
       "\n",
       "    .dataframe tbody tr th {\n",
       "        vertical-align: top;\n",
       "    }\n",
       "\n",
       "    .dataframe thead th {\n",
       "        text-align: right;\n",
       "    }\n",
       "</style>\n",
       "<table border=\"1\" class=\"dataframe\">\n",
       "  <thead>\n",
       "    <tr style=\"text-align: right;\">\n",
       "      <th></th>\n",
       "      <th>cardName</th>\n",
       "      <th>superType</th>\n",
       "      <th>cardType</th>\n",
       "      <th>subType</th>\n",
       "      <th>typeNum</th>\n",
       "      <th>manaCost</th>\n",
       "      <th>convertedMana</th>\n",
       "      <th>cardSet</th>\n",
       "      <th>rarity</th>\n",
       "      <th>rules</th>\n",
       "    </tr>\n",
       "  </thead>\n",
       "  <tbody>\n",
       "    <tr>\n",
       "      <th>0</th>\n",
       "      <td>\"Ach! Hans, Run!\"</td>\n",
       "      <td>NaN</td>\n",
       "      <td>Enchantment</td>\n",
       "      <td>NaN</td>\n",
       "      <td>NaN</td>\n",
       "      <td>2RRGG</td>\n",
       "      <td>6.0</td>\n",
       "      <td>Unhinged</td>\n",
       "      <td>Rare</td>\n",
       "      <td>At the beginning of your upkeep, you may say \"...</td>\n",
       "    </tr>\n",
       "    <tr>\n",
       "      <th>1</th>\n",
       "      <td>\"Rumors of My Death . . .\"</td>\n",
       "      <td>NaN</td>\n",
       "      <td>Enchantment</td>\n",
       "      <td>NaN</td>\n",
       "      <td>NaN</td>\n",
       "      <td>2B</td>\n",
       "      <td>3.0</td>\n",
       "      <td>Unstable</td>\n",
       "      <td>Uncommon</td>\n",
       "      <td>3B, Exile a permanent you control with a Leagu...</td>\n",
       "    </tr>\n",
       "    <tr>\n",
       "      <th>2</th>\n",
       "      <td>_____</td>\n",
       "      <td>NaN</td>\n",
       "      <td>Creature</td>\n",
       "      <td>Shapeshifter</td>\n",
       "      <td>1/1</td>\n",
       "      <td>1U</td>\n",
       "      <td>2.0</td>\n",
       "      <td>Unhinged</td>\n",
       "      <td>Uncommon</td>\n",
       "      <td>1: This card's name becomes the card name of y...</td>\n",
       "    </tr>\n",
       "    <tr>\n",
       "      <th>3</th>\n",
       "      <td>A Good Thing</td>\n",
       "      <td>NaN</td>\n",
       "      <td>Enchantment</td>\n",
       "      <td>NaN</td>\n",
       "      <td>NaN</td>\n",
       "      <td>4WB</td>\n",
       "      <td>6.0</td>\n",
       "      <td>Mystery Booster</td>\n",
       "      <td>Common</td>\n",
       "      <td>Spells and abilities you control can't destroy...</td>\n",
       "    </tr>\n",
       "    <tr>\n",
       "      <th>4</th>\n",
       "      <td>Abandon Hope</td>\n",
       "      <td>NaN</td>\n",
       "      <td>Sorcery</td>\n",
       "      <td>NaN</td>\n",
       "      <td>NaN</td>\n",
       "      <td>X1B</td>\n",
       "      <td>2.0</td>\n",
       "      <td>Tempest</td>\n",
       "      <td>Uncommon</td>\n",
       "      <td>As an additional cost to cast this spell, disc...</td>\n",
       "    </tr>\n",
       "    <tr>\n",
       "      <th>5</th>\n",
       "      <td>Abandon Reason</td>\n",
       "      <td>NaN</td>\n",
       "      <td>Instant</td>\n",
       "      <td>NaN</td>\n",
       "      <td>NaN</td>\n",
       "      <td>2R</td>\n",
       "      <td>3.0</td>\n",
       "      <td>Eldritch Moon</td>\n",
       "      <td>Uncommon</td>\n",
       "      <td>Up to two target creatures each get +1/+0 and ...</td>\n",
       "    </tr>\n",
       "    <tr>\n",
       "      <th>6</th>\n",
       "      <td>Abandoned Outpost</td>\n",
       "      <td>NaN</td>\n",
       "      <td>Land</td>\n",
       "      <td>NaN</td>\n",
       "      <td>NaN</td>\n",
       "      <td>NaN</td>\n",
       "      <td>0.0</td>\n",
       "      <td>Odyssey</td>\n",
       "      <td>Common</td>\n",
       "      <td>Abandoned Outpost enters the battlefield tappe...</td>\n",
       "    </tr>\n",
       "    <tr>\n",
       "      <th>7</th>\n",
       "      <td>Abandoned Sarcophagus</td>\n",
       "      <td>NaN</td>\n",
       "      <td>Artifact</td>\n",
       "      <td>NaN</td>\n",
       "      <td>NaN</td>\n",
       "      <td>3</td>\n",
       "      <td>3.0</td>\n",
       "      <td>Hour of Devastation</td>\n",
       "      <td>Rare</td>\n",
       "      <td>You may cast spells that have a cycling abilit...</td>\n",
       "    </tr>\n",
       "    <tr>\n",
       "      <th>8</th>\n",
       "      <td>Abandoned Sarcophagus</td>\n",
       "      <td>NaN</td>\n",
       "      <td>Artifact</td>\n",
       "      <td>NaN</td>\n",
       "      <td>NaN</td>\n",
       "      <td>3</td>\n",
       "      <td>3.0</td>\n",
       "      <td>Ikoria Commander</td>\n",
       "      <td>Rare</td>\n",
       "      <td>You may cast spells that have a cycling abilit...</td>\n",
       "    </tr>\n",
       "    <tr>\n",
       "      <th>9</th>\n",
       "      <td>Abattoir Ghoul</td>\n",
       "      <td>NaN</td>\n",
       "      <td>Creature</td>\n",
       "      <td>Zombie</td>\n",
       "      <td>3/2</td>\n",
       "      <td>3B</td>\n",
       "      <td>4.0</td>\n",
       "      <td>Innistrad</td>\n",
       "      <td>Uncommon</td>\n",
       "      <td>First strike\\nWhenever a creature dealt damage...</td>\n",
       "    </tr>\n",
       "  </tbody>\n",
       "</table>\n",
       "</div>"
      ],
      "text/plain": [
       "                     cardName superType     cardType       subType typeNum  \\\n",
       "0           \"Ach! Hans, Run!\"       NaN  Enchantment           NaN     NaN   \n",
       "1  \"Rumors of My Death . . .\"       NaN  Enchantment           NaN     NaN   \n",
       "2                       _____       NaN     Creature  Shapeshifter     1/1   \n",
       "3                A Good Thing       NaN  Enchantment           NaN     NaN   \n",
       "4                Abandon Hope       NaN      Sorcery           NaN     NaN   \n",
       "5              Abandon Reason       NaN      Instant           NaN     NaN   \n",
       "6           Abandoned Outpost       NaN         Land           NaN     NaN   \n",
       "7       Abandoned Sarcophagus       NaN     Artifact           NaN     NaN   \n",
       "8       Abandoned Sarcophagus       NaN     Artifact           NaN     NaN   \n",
       "9              Abattoir Ghoul       NaN     Creature        Zombie     3/2   \n",
       "\n",
       "  manaCost  convertedMana              cardSet    rarity  \\\n",
       "0    2RRGG            6.0             Unhinged      Rare   \n",
       "1       2B            3.0             Unstable  Uncommon   \n",
       "2       1U            2.0             Unhinged  Uncommon   \n",
       "3      4WB            6.0      Mystery Booster    Common   \n",
       "4      X1B            2.0              Tempest  Uncommon   \n",
       "5       2R            3.0        Eldritch Moon  Uncommon   \n",
       "6      NaN            0.0              Odyssey    Common   \n",
       "7        3            3.0  Hour of Devastation      Rare   \n",
       "8        3            3.0     Ikoria Commander      Rare   \n",
       "9       3B            4.0            Innistrad  Uncommon   \n",
       "\n",
       "                                               rules  \n",
       "0  At the beginning of your upkeep, you may say \"...  \n",
       "1  3B, Exile a permanent you control with a Leagu...  \n",
       "2  1: This card's name becomes the card name of y...  \n",
       "3  Spells and abilities you control can't destroy...  \n",
       "4  As an additional cost to cast this spell, disc...  \n",
       "5  Up to two target creatures each get +1/+0 and ...  \n",
       "6  Abandoned Outpost enters the battlefield tappe...  \n",
       "7  You may cast spells that have a cycling abilit...  \n",
       "8  You may cast spells that have a cycling abilit...  \n",
       "9  First strike\\nWhenever a creature dealt damage...  "
      ]
     },
     "execution_count": 169,
     "metadata": {},
     "output_type": "execute_result"
    }
   ],
   "source": [
    "data.head(10)"
   ]
  },
  {
   "cell_type": "code",
   "execution_count": 170,
   "metadata": {},
   "outputs": [
    {
     "data": {
      "text/plain": [
       "cardName          object\n",
       "superType         object\n",
       "cardType          object\n",
       "subType           object\n",
       "typeNum           object\n",
       "manaCost          object\n",
       "convertedMana    float64\n",
       "cardSet           object\n",
       "rarity            object\n",
       "rules             object\n",
       "dtype: object"
      ]
     },
     "execution_count": 170,
     "metadata": {},
     "output_type": "execute_result"
    }
   ],
   "source": [
    "data.dtypes"
   ]
  },
  {
   "cell_type": "code",
   "execution_count": 171,
   "metadata": {},
   "outputs": [
    {
     "data": {
      "text/plain": [
       "(38523, 10)"
      ]
     },
     "execution_count": 171,
     "metadata": {},
     "output_type": "execute_result"
    }
   ],
   "source": [
    "# How many rows and columns?\n",
    "data.shape"
   ]
  },
  {
   "cell_type": "code",
   "execution_count": 172,
   "metadata": {},
   "outputs": [
    {
     "data": {
      "text/plain": [
       "21171"
      ]
     },
     "execution_count": 172,
     "metadata": {},
     "output_type": "execute_result"
    }
   ],
   "source": [
    "# How many unique cards?\n",
    "len(data.cardName.unique())"
   ]
  },
  {
   "cell_type": "markdown",
   "metadata": {},
   "source": [
    "## SuperType"
   ]
  },
  {
   "cell_type": "code",
   "execution_count": 173,
   "metadata": {},
   "outputs": [
    {
     "data": {
      "text/plain": [
       "[nan,\n",
       " 'Legendary',\n",
       " 'Snow',\n",
       " 'Host',\n",
       " 'Tribal',\n",
       " 'World',\n",
       " 'Basic',\n",
       " 'Legendary Snow',\n",
       " 'Basic Snow']"
      ]
     },
     "execution_count": 173,
     "metadata": {},
     "output_type": "execute_result"
    }
   ],
   "source": [
    "list(data.superType.unique())"
   ]
  },
  {
   "cell_type": "code",
   "execution_count": 174,
   "metadata": {},
   "outputs": [
    {
     "data": {
      "text/html": [
       "<div>\n",
       "<style scoped>\n",
       "    .dataframe tbody tr th:only-of-type {\n",
       "        vertical-align: middle;\n",
       "    }\n",
       "\n",
       "    .dataframe tbody tr th {\n",
       "        vertical-align: top;\n",
       "    }\n",
       "\n",
       "    .dataframe thead th {\n",
       "        text-align: right;\n",
       "    }\n",
       "</style>\n",
       "<table border=\"1\" class=\"dataframe\">\n",
       "  <thead>\n",
       "    <tr style=\"text-align: right;\">\n",
       "      <th></th>\n",
       "      <th>cardName</th>\n",
       "      <th>superType</th>\n",
       "      <th>cardType</th>\n",
       "      <th>subType</th>\n",
       "      <th>typeNum</th>\n",
       "      <th>manaCost</th>\n",
       "      <th>convertedMana</th>\n",
       "      <th>cardSet</th>\n",
       "      <th>rarity</th>\n",
       "      <th>rules</th>\n",
       "    </tr>\n",
       "  </thead>\n",
       "  <tbody>\n",
       "    <tr>\n",
       "      <th>22</th>\n",
       "      <td>Abian, Luvion Usurper</td>\n",
       "      <td>Legendary</td>\n",
       "      <td>Planeswalker</td>\n",
       "      <td>Abian</td>\n",
       "      <td>NaN</td>\n",
       "      <td>5RG</td>\n",
       "      <td>7.0</td>\n",
       "      <td>Mystery Booster</td>\n",
       "      <td>Common</td>\n",
       "      <td>As CARDNAME enters the battlefield, you become...</td>\n",
       "    </tr>\n",
       "    <tr>\n",
       "      <th>33</th>\n",
       "      <td>Aboshan, Cephalid Emperor</td>\n",
       "      <td>Legendary</td>\n",
       "      <td>Creature</td>\n",
       "      <td>Cephalid Noble</td>\n",
       "      <td>3/3</td>\n",
       "      <td>4UU</td>\n",
       "      <td>6.0</td>\n",
       "      <td>Odyssey</td>\n",
       "      <td>Rare</td>\n",
       "      <td>Tap an untapped Cephalid you control: Tap targ...</td>\n",
       "    </tr>\n",
       "    <tr>\n",
       "      <th>114</th>\n",
       "      <td>Academy Ruins</td>\n",
       "      <td>Legendary</td>\n",
       "      <td>Land</td>\n",
       "      <td>NaN</td>\n",
       "      <td>NaN</td>\n",
       "      <td>NaN</td>\n",
       "      <td>0.0</td>\n",
       "      <td>Time Spiral</td>\n",
       "      <td>Rare</td>\n",
       "      <td>Tap: Add C.\\n1U, Tap: Put target artifact card...</td>\n",
       "    </tr>\n",
       "    <tr>\n",
       "      <th>115</th>\n",
       "      <td>Academy Ruins</td>\n",
       "      <td>Legendary</td>\n",
       "      <td>Land</td>\n",
       "      <td>NaN</td>\n",
       "      <td>NaN</td>\n",
       "      <td>NaN</td>\n",
       "      <td>0.0</td>\n",
       "      <td>Modern Masters</td>\n",
       "      <td>Rare</td>\n",
       "      <td>Tap: Add C.\\n1U, Tap: Put target artifact card...</td>\n",
       "    </tr>\n",
       "    <tr>\n",
       "      <th>116</th>\n",
       "      <td>Academy Ruins</td>\n",
       "      <td>Legendary</td>\n",
       "      <td>Land</td>\n",
       "      <td>NaN</td>\n",
       "      <td>NaN</td>\n",
       "      <td>NaN</td>\n",
       "      <td>0.0</td>\n",
       "      <td>Double Masters</td>\n",
       "      <td>Rare</td>\n",
       "      <td>Tap: Add C.\\n1U, Tap: Put target artifact card...</td>\n",
       "    </tr>\n",
       "    <tr>\n",
       "      <th>...</th>\n",
       "      <td>...</td>\n",
       "      <td>...</td>\n",
       "      <td>...</td>\n",
       "      <td>...</td>\n",
       "      <td>...</td>\n",
       "      <td>...</td>\n",
       "      <td>...</td>\n",
       "      <td>...</td>\n",
       "      <td>...</td>\n",
       "      <td>...</td>\n",
       "    </tr>\n",
       "    <tr>\n",
       "      <th>38512</th>\n",
       "      <td>Zurgo Bellstriker</td>\n",
       "      <td>Legendary</td>\n",
       "      <td>Creature</td>\n",
       "      <td>Orc Warrior</td>\n",
       "      <td>2/2</td>\n",
       "      <td>R</td>\n",
       "      <td>1.0</td>\n",
       "      <td>Dragons of Tarkir</td>\n",
       "      <td>Rare</td>\n",
       "      <td>Zurgo Bellstriker can't block creatures with p...</td>\n",
       "    </tr>\n",
       "    <tr>\n",
       "      <th>38513</th>\n",
       "      <td>Zurgo Helmsmasher</td>\n",
       "      <td>Legendary</td>\n",
       "      <td>Creature</td>\n",
       "      <td>Orc Warrior</td>\n",
       "      <td>7/2</td>\n",
       "      <td>2RWB</td>\n",
       "      <td>5.0</td>\n",
       "      <td>Duel Decks: Speed vs. Cunning</td>\n",
       "      <td>Mythic Rare</td>\n",
       "      <td>Haste\\nZurgo Helmsmasher attacks each combat i...</td>\n",
       "    </tr>\n",
       "    <tr>\n",
       "      <th>38514</th>\n",
       "      <td>Zurgo Helmsmasher</td>\n",
       "      <td>Legendary</td>\n",
       "      <td>Creature</td>\n",
       "      <td>Orc Warrior</td>\n",
       "      <td>7/2</td>\n",
       "      <td>2RWB</td>\n",
       "      <td>5.0</td>\n",
       "      <td>Khans of Tarkir</td>\n",
       "      <td>Mythic Rare</td>\n",
       "      <td>Haste\\nZurgo Helmsmasher attacks each combat i...</td>\n",
       "    </tr>\n",
       "    <tr>\n",
       "      <th>38520</th>\n",
       "      <td>Zurzoth, Chaos Rider</td>\n",
       "      <td>Legendary</td>\n",
       "      <td>Creature</td>\n",
       "      <td>Devil</td>\n",
       "      <td>2/3</td>\n",
       "      <td>2R</td>\n",
       "      <td>3.0</td>\n",
       "      <td>Jumpstart</td>\n",
       "      <td>Rare</td>\n",
       "      <td>Whenever an opponent draws their first card ea...</td>\n",
       "    </tr>\n",
       "    <tr>\n",
       "      <th>38521</th>\n",
       "      <td>Zyym, Mesmeric Lord</td>\n",
       "      <td>Legendary</td>\n",
       "      <td>Creature</td>\n",
       "      <td>Vampire Wizard</td>\n",
       "      <td>3/4</td>\n",
       "      <td>1UBB</td>\n",
       "      <td>4.0</td>\n",
       "      <td>Mystery Booster</td>\n",
       "      <td>Common</td>\n",
       "      <td>Flying, deathtouch\\nWhen CARDNAME enters the b...</td>\n",
       "    </tr>\n",
       "  </tbody>\n",
       "</table>\n",
       "<p>2249 rows × 10 columns</p>\n",
       "</div>"
      ],
      "text/plain": [
       "                        cardName  superType      cardType         subType  \\\n",
       "22         Abian, Luvion Usurper  Legendary  Planeswalker           Abian   \n",
       "33     Aboshan, Cephalid Emperor  Legendary      Creature  Cephalid Noble   \n",
       "114                Academy Ruins  Legendary          Land             NaN   \n",
       "115                Academy Ruins  Legendary          Land             NaN   \n",
       "116                Academy Ruins  Legendary          Land             NaN   \n",
       "...                          ...        ...           ...             ...   \n",
       "38512          Zurgo Bellstriker  Legendary      Creature     Orc Warrior   \n",
       "38513          Zurgo Helmsmasher  Legendary      Creature     Orc Warrior   \n",
       "38514          Zurgo Helmsmasher  Legendary      Creature     Orc Warrior   \n",
       "38520       Zurzoth, Chaos Rider  Legendary      Creature           Devil   \n",
       "38521        Zyym, Mesmeric Lord  Legendary      Creature  Vampire Wizard   \n",
       "\n",
       "      typeNum manaCost  convertedMana                        cardSet  \\\n",
       "22        NaN      5RG            7.0                Mystery Booster   \n",
       "33        3/3      4UU            6.0                        Odyssey   \n",
       "114       NaN      NaN            0.0                    Time Spiral   \n",
       "115       NaN      NaN            0.0                 Modern Masters   \n",
       "116       NaN      NaN            0.0                 Double Masters   \n",
       "...       ...      ...            ...                            ...   \n",
       "38512     2/2        R            1.0              Dragons of Tarkir   \n",
       "38513     7/2     2RWB            5.0  Duel Decks: Speed vs. Cunning   \n",
       "38514     7/2     2RWB            5.0                Khans of Tarkir   \n",
       "38520     2/3       2R            3.0                      Jumpstart   \n",
       "38521     3/4     1UBB            4.0                Mystery Booster   \n",
       "\n",
       "            rarity                                              rules  \n",
       "22          Common  As CARDNAME enters the battlefield, you become...  \n",
       "33            Rare  Tap an untapped Cephalid you control: Tap targ...  \n",
       "114           Rare  Tap: Add C.\\n1U, Tap: Put target artifact card...  \n",
       "115           Rare  Tap: Add C.\\n1U, Tap: Put target artifact card...  \n",
       "116           Rare  Tap: Add C.\\n1U, Tap: Put target artifact card...  \n",
       "...            ...                                                ...  \n",
       "38512         Rare  Zurgo Bellstriker can't block creatures with p...  \n",
       "38513  Mythic Rare  Haste\\nZurgo Helmsmasher attacks each combat i...  \n",
       "38514  Mythic Rare  Haste\\nZurgo Helmsmasher attacks each combat i...  \n",
       "38520         Rare  Whenever an opponent draws their first card ea...  \n",
       "38521       Common  Flying, deathtouch\\nWhen CARDNAME enters the b...  \n",
       "\n",
       "[2249 rows x 10 columns]"
      ]
     },
     "execution_count": 174,
     "metadata": {},
     "output_type": "execute_result"
    }
   ],
   "source": [
    "data[data.superType == 'Legendary']"
   ]
  },
  {
   "cell_type": "markdown",
   "metadata": {},
   "source": [
    "## Card Type"
   ]
  },
  {
   "cell_type": "code",
   "execution_count": 175,
   "metadata": {},
   "outputs": [
    {
     "data": {
      "text/plain": [
       "27"
      ]
     },
     "execution_count": 175,
     "metadata": {},
     "output_type": "execute_result"
    }
   ],
   "source": [
    "# How many unique card types?\n",
    "len(data.cardType.unique())"
   ]
  },
  {
   "cell_type": "code",
   "execution_count": 176,
   "metadata": {},
   "outputs": [
    {
     "data": {
      "text/plain": [
       "['Enchantment',\n",
       " 'Creature',\n",
       " 'Sorcery',\n",
       " 'Instant',\n",
       " 'Land',\n",
       " 'Artifact',\n",
       " 'Planeswalker',\n",
       " 'Artifact Creature',\n",
       " 'Enchantment Creature',\n",
       " 'Artifact Land',\n",
       " 'Eaturecray',\n",
       " 'Scariest Creature You’ll Ever See\\r\\n                                (99/99)',\n",
       " 'Enchantment Artifact',\n",
       " 'instant',\n",
       " 'Token Creature',\n",
       " 'Creature (4/4)',\n",
       " 'Land Creature',\n",
       " 'Enchantment Land',\n",
       " nan,\n",
       " 'Enchantment (2/2)',\n",
       " 'Instant Creature',\n",
       " 'Creature\\r\\n                                (*/*)',\n",
       " 'Summon',\n",
       " 'Planeswalker (5)',\n",
       " 'Summon Wolf\\r\\n                                (3/1)',\n",
       " 'Token Artifact',\n",
       " 'Elemental Instant']"
      ]
     },
     "execution_count": 176,
     "metadata": {},
     "output_type": "execute_result"
    }
   ],
   "source": [
    "list(data.cardType.unique())"
   ]
  },
  {
   "cell_type": "code",
   "execution_count": 177,
   "metadata": {},
   "outputs": [
    {
     "data": {
      "text/html": [
       "<div>\n",
       "<style scoped>\n",
       "    .dataframe tbody tr th:only-of-type {\n",
       "        vertical-align: middle;\n",
       "    }\n",
       "\n",
       "    .dataframe tbody tr th {\n",
       "        vertical-align: top;\n",
       "    }\n",
       "\n",
       "    .dataframe thead th {\n",
       "        text-align: right;\n",
       "    }\n",
       "</style>\n",
       "<table border=\"1\" class=\"dataframe\">\n",
       "  <thead>\n",
       "    <tr style=\"text-align: right;\">\n",
       "      <th></th>\n",
       "      <th>cardName</th>\n",
       "      <th>superType</th>\n",
       "      <th>cardType</th>\n",
       "      <th>subType</th>\n",
       "      <th>typeNum</th>\n",
       "      <th>manaCost</th>\n",
       "      <th>convertedMana</th>\n",
       "      <th>cardSet</th>\n",
       "      <th>rarity</th>\n",
       "      <th>rules</th>\n",
       "    </tr>\n",
       "  </thead>\n",
       "  <tbody>\n",
       "    <tr>\n",
       "      <th>4739</th>\n",
       "      <td>Cat</td>\n",
       "      <td>NaN</td>\n",
       "      <td>Token Creature</td>\n",
       "      <td>Cat</td>\n",
       "      <td>1/1</td>\n",
       "      <td>NaN</td>\n",
       "      <td>0.0</td>\n",
       "      <td>Secret Lair Drop</td>\n",
       "      <td>Common</td>\n",
       "      <td>Lifelink</td>\n",
       "    </tr>\n",
       "    <tr>\n",
       "      <th>10756</th>\n",
       "      <td>Faerie Rogue</td>\n",
       "      <td>NaN</td>\n",
       "      <td>Token Creature</td>\n",
       "      <td>Faerie Rogue</td>\n",
       "      <td>1/1</td>\n",
       "      <td>NaN</td>\n",
       "      <td>0.0</td>\n",
       "      <td>Secret Lair Drop</td>\n",
       "      <td>Common</td>\n",
       "      <td>Flying</td>\n",
       "    </tr>\n",
       "    <tr>\n",
       "      <th>36713</th>\n",
       "      <td>Walker</td>\n",
       "      <td>NaN</td>\n",
       "      <td>Token Creature</td>\n",
       "      <td>Zombie</td>\n",
       "      <td>2/2</td>\n",
       "      <td>NaN</td>\n",
       "      <td>0.0</td>\n",
       "      <td>Secret Lair Drop</td>\n",
       "      <td>Common</td>\n",
       "      <td>NaN</td>\n",
       "    </tr>\n",
       "  </tbody>\n",
       "</table>\n",
       "</div>"
      ],
      "text/plain": [
       "           cardName superType        cardType       subType typeNum manaCost  \\\n",
       "4739            Cat       NaN  Token Creature           Cat     1/1      NaN   \n",
       "10756  Faerie Rogue       NaN  Token Creature  Faerie Rogue     1/1      NaN   \n",
       "36713        Walker       NaN  Token Creature        Zombie     2/2      NaN   \n",
       "\n",
       "       convertedMana           cardSet  rarity     rules  \n",
       "4739             0.0  Secret Lair Drop  Common  Lifelink  \n",
       "10756            0.0  Secret Lair Drop  Common    Flying  \n",
       "36713            0.0  Secret Lair Drop  Common       NaN  "
      ]
     },
     "execution_count": 177,
     "metadata": {},
     "output_type": "execute_result"
    }
   ],
   "source": [
    "data[data.cardType == \"Token Creature\"]"
   ]
  },
  {
   "cell_type": "markdown",
   "metadata": {},
   "source": [
    "There are Planeswalkers and Enchantments with numbers following `\\r\\n` -> need to fix"
   ]
  },
  {
   "cell_type": "code",
   "execution_count": 121,
   "metadata": {},
   "outputs": [
    {
     "data": {
      "text/plain": [
       "['2RRGG', '2B', '1U', '4WB', 'X1B']"
      ]
     },
     "execution_count": 121,
     "metadata": {},
     "output_type": "execute_result"
    }
   ],
   "source": [
    "# TODO: we've got a 'nan' - keep it but switch it to universal NaN?\n",
    "list(data.manaCost.unique())[0:5]"
   ]
  },
  {
   "cell_type": "code",
   "execution_count": 137,
   "metadata": {},
   "outputs": [
    {
     "data": {
      "text/plain": [
       "['Rare', 'Uncommon', 'Common', 'Mythic Rare', 'Special', 'Bonus', 'Promo']"
      ]
     },
     "execution_count": 137,
     "metadata": {},
     "output_type": "execute_result"
    }
   ],
   "source": [
    "list(data.rarity.unique())"
   ]
  },
  {
   "cell_type": "code",
   "execution_count": 192,
   "metadata": {},
   "outputs": [
    {
     "data": {
      "text/plain": [
       "['Creature', '                                (*/*)']"
      ]
     },
     "execution_count": 192,
     "metadata": {},
     "output_type": "execute_result"
    }
   ],
   "source": [
    "a = 'Creature\\r\\n                                (*/*)'\n",
    "a = a.split('\\r\\n')\n",
    "a"
   ]
  },
  {
   "cell_type": "code",
   "execution_count": 195,
   "metadata": {},
   "outputs": [],
   "source": [
    "l = a[-1].split('(')"
   ]
  },
  {
   "cell_type": "code",
   "execution_count": 196,
   "metadata": {},
   "outputs": [
    {
     "data": {
      "text/plain": [
       "''"
      ]
     },
     "execution_count": 196,
     "metadata": {},
     "output_type": "execute_result"
    }
   ],
   "source": [
    "l[0].strip()"
   ]
  },
  {
   "cell_type": "code",
   "execution_count": 203,
   "metadata": {},
   "outputs": [
    {
     "data": {
      "text/plain": [
       "['Creature\\r\\n                                (*/*)']"
      ]
     },
     "execution_count": 203,
     "metadata": {},
     "output_type": "execute_result"
    }
   ],
   "source": [
    "a = 'Creature\\r\\n                                (*/*)'\n",
    "typeSplit = a.split('—')\n",
    "typeSplit"
   ]
  },
  {
   "cell_type": "code",
   "execution_count": 204,
   "metadata": {},
   "outputs": [],
   "source": [
    "typeSplit[0] = typeSplit[0].split('\\r\\n')"
   ]
  },
  {
   "cell_type": "code",
   "execution_count": 205,
   "metadata": {},
   "outputs": [
    {
     "data": {
      "text/plain": [
       "[['Creature', '                                (*/*)']]"
      ]
     },
     "execution_count": 205,
     "metadata": {},
     "output_type": "execute_result"
    }
   ],
   "source": [
    "typeSplit"
   ]
  }
 ],
 "metadata": {
  "kernelspec": {
   "display_name": "Python 3",
   "language": "python",
   "name": "python3"
  },
  "language_info": {
   "codemirror_mode": {
    "name": "ipython",
    "version": 3
   },
   "file_extension": ".py",
   "mimetype": "text/x-python",
   "name": "python",
   "nbconvert_exporter": "python",
   "pygments_lexer": "ipython3",
   "version": "3.7.6"
  }
 },
 "nbformat": 4,
 "nbformat_minor": 4
}
