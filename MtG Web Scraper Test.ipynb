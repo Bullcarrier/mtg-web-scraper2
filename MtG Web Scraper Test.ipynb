{
 "cells": [
  {
   "cell_type": "markdown",
   "metadata": {},
   "source": [
    "# Magic: The Gathering Web Scaper Test\n",
    "Testing for web scraper development."
   ]
  },
  {
   "cell_type": "code",
   "execution_count": 1,
   "metadata": {},
   "outputs": [],
   "source": [
    "import pandas as pd\n",
    "data = pd.read_csv('data/output.csv')"
   ]
  },
  {
   "cell_type": "code",
   "execution_count": 2,
   "metadata": {},
   "outputs": [
    {
     "data": {
      "text/html": [
       "<div>\n",
       "<style scoped>\n",
       "    .dataframe tbody tr th:only-of-type {\n",
       "        vertical-align: middle;\n",
       "    }\n",
       "\n",
       "    .dataframe tbody tr th {\n",
       "        vertical-align: top;\n",
       "    }\n",
       "\n",
       "    .dataframe thead th {\n",
       "        text-align: right;\n",
       "    }\n",
       "</style>\n",
       "<table border=\"1\" class=\"dataframe\">\n",
       "  <thead>\n",
       "    <tr style=\"text-align: right;\">\n",
       "      <th></th>\n",
       "      <th>cardName</th>\n",
       "      <th>superType</th>\n",
       "      <th>cardType</th>\n",
       "      <th>subType</th>\n",
       "      <th>typeNum</th>\n",
       "      <th>manaCost</th>\n",
       "      <th>convertedMana</th>\n",
       "      <th>cardSet</th>\n",
       "      <th>rarity</th>\n",
       "      <th>rules</th>\n",
       "    </tr>\n",
       "  </thead>\n",
       "  <tbody>\n",
       "    <tr>\n",
       "      <th>0</th>\n",
       "      <td>\"Ach! Hans, Run!\"</td>\n",
       "      <td>NaN</td>\n",
       "      <td>Enchantment</td>\n",
       "      <td>NaN</td>\n",
       "      <td>NaN</td>\n",
       "      <td>2RRGG</td>\n",
       "      <td>6.0</td>\n",
       "      <td>Unhinged</td>\n",
       "      <td>Rare</td>\n",
       "      <td>At the beginning of your upkeep, you may say \"...</td>\n",
       "    </tr>\n",
       "    <tr>\n",
       "      <th>1</th>\n",
       "      <td>\"Rumors of My Death . . .\"</td>\n",
       "      <td>NaN</td>\n",
       "      <td>Enchantment</td>\n",
       "      <td>NaN</td>\n",
       "      <td>NaN</td>\n",
       "      <td>2B</td>\n",
       "      <td>3.0</td>\n",
       "      <td>Unstable</td>\n",
       "      <td>Uncommon</td>\n",
       "      <td>3B, Exile a permanent you control with a Leagu...</td>\n",
       "    </tr>\n",
       "    <tr>\n",
       "      <th>2</th>\n",
       "      <td>_____</td>\n",
       "      <td>NaN</td>\n",
       "      <td>Creature</td>\n",
       "      <td>Shapeshifter</td>\n",
       "      <td>1/1</td>\n",
       "      <td>1U</td>\n",
       "      <td>2.0</td>\n",
       "      <td>Unhinged</td>\n",
       "      <td>Uncommon</td>\n",
       "      <td>1: This card's name becomes the card name of y...</td>\n",
       "    </tr>\n",
       "    <tr>\n",
       "      <th>3</th>\n",
       "      <td>A Good Thing</td>\n",
       "      <td>NaN</td>\n",
       "      <td>Enchantment</td>\n",
       "      <td>NaN</td>\n",
       "      <td>NaN</td>\n",
       "      <td>4WB</td>\n",
       "      <td>6.0</td>\n",
       "      <td>Mystery Booster</td>\n",
       "      <td>Common</td>\n",
       "      <td>Spells and abilities you control can't destroy...</td>\n",
       "    </tr>\n",
       "    <tr>\n",
       "      <th>4</th>\n",
       "      <td>Abandon Hope</td>\n",
       "      <td>NaN</td>\n",
       "      <td>Sorcery</td>\n",
       "      <td>NaN</td>\n",
       "      <td>NaN</td>\n",
       "      <td>X1B</td>\n",
       "      <td>2.0</td>\n",
       "      <td>Tempest</td>\n",
       "      <td>Uncommon</td>\n",
       "      <td>As an additional cost to cast this spell, disc...</td>\n",
       "    </tr>\n",
       "  </tbody>\n",
       "</table>\n",
       "</div>"
      ],
      "text/plain": [
       "                     cardName superType     cardType       subType typeNum  \\\n",
       "0           \"Ach! Hans, Run!\"       NaN  Enchantment           NaN     NaN   \n",
       "1  \"Rumors of My Death . . .\"       NaN  Enchantment           NaN     NaN   \n",
       "2                       _____       NaN     Creature  Shapeshifter     1/1   \n",
       "3                A Good Thing       NaN  Enchantment           NaN     NaN   \n",
       "4                Abandon Hope       NaN      Sorcery           NaN     NaN   \n",
       "\n",
       "  manaCost  convertedMana          cardSet    rarity  \\\n",
       "0    2RRGG            6.0         Unhinged      Rare   \n",
       "1       2B            3.0         Unstable  Uncommon   \n",
       "2       1U            2.0         Unhinged  Uncommon   \n",
       "3      4WB            6.0  Mystery Booster    Common   \n",
       "4      X1B            2.0          Tempest  Uncommon   \n",
       "\n",
       "                                               rules  \n",
       "0  At the beginning of your upkeep, you may say \"...  \n",
       "1  3B, Exile a permanent you control with a Leagu...  \n",
       "2  1: This card's name becomes the card name of y...  \n",
       "3  Spells and abilities you control can't destroy...  \n",
       "4  As an additional cost to cast this spell, disc...  "
      ]
     },
     "execution_count": 2,
     "metadata": {},
     "output_type": "execute_result"
    }
   ],
   "source": [
    "data.head(5)"
   ]
  },
  {
   "cell_type": "code",
   "execution_count": 3,
   "metadata": {},
   "outputs": [
    {
     "data": {
      "text/plain": [
       "cardName          object\n",
       "superType         object\n",
       "cardType          object\n",
       "subType           object\n",
       "typeNum           object\n",
       "manaCost          object\n",
       "convertedMana    float64\n",
       "cardSet           object\n",
       "rarity            object\n",
       "rules             object\n",
       "dtype: object"
      ]
     },
     "execution_count": 3,
     "metadata": {},
     "output_type": "execute_result"
    }
   ],
   "source": [
    "data.dtypes"
   ]
  },
  {
   "cell_type": "code",
   "execution_count": 4,
   "metadata": {},
   "outputs": [
    {
     "data": {
      "text/plain": [
       "(38519, 10)"
      ]
     },
     "execution_count": 4,
     "metadata": {},
     "output_type": "execute_result"
    }
   ],
   "source": [
    "# How many rows and columns?\n",
    "data.shape"
   ]
  },
  {
   "cell_type": "code",
   "execution_count": 5,
   "metadata": {},
   "outputs": [
    {
     "data": {
      "text/plain": [
       "21167"
      ]
     },
     "execution_count": 5,
     "metadata": {},
     "output_type": "execute_result"
    }
   ],
   "source": [
    "# How many unique cards?\n",
    "len(data.cardName.unique())"
   ]
  },
  {
   "cell_type": "markdown",
   "metadata": {},
   "source": [
    "## Unique Values"
   ]
  },
  {
   "cell_type": "markdown",
   "metadata": {},
   "source": [
    "Supertype"
   ]
  },
  {
   "cell_type": "code",
   "execution_count": 6,
   "metadata": {},
   "outputs": [
    {
     "data": {
      "text/plain": [
       "[nan,\n",
       " 'Legendary',\n",
       " 'Snow',\n",
       " 'Host',\n",
       " 'World',\n",
       " 'Basic',\n",
       " 'Legendary Snow',\n",
       " 'Basic Snow']"
      ]
     },
     "execution_count": 6,
     "metadata": {},
     "output_type": "execute_result"
    }
   ],
   "source": [
    "list(data.superType.unique())"
   ]
  },
  {
   "cell_type": "markdown",
   "metadata": {},
   "source": [
    "Rarity"
   ]
  },
  {
   "cell_type": "code",
   "execution_count": 7,
   "metadata": {},
   "outputs": [
    {
     "data": {
      "text/plain": [
       "['Rare', 'Uncommon', 'Common', 'Mythic Rare', 'Special', 'Bonus', 'Promo']"
      ]
     },
     "execution_count": 7,
     "metadata": {},
     "output_type": "execute_result"
    }
   ],
   "source": [
    "list(data.rarity.unique())"
   ]
  },
  {
   "cell_type": "markdown",
   "metadata": {},
   "source": [
    "Card type"
   ]
  },
  {
   "cell_type": "code",
   "execution_count": 8,
   "metadata": {},
   "outputs": [
    {
     "name": "stdout",
     "output_type": "stream",
     "text": [
      "How many unique card types?  19\n"
     ]
    },
    {
     "data": {
      "text/plain": [
       "array(['Enchantment', 'Creature', 'Sorcery', 'Instant', 'Land',\n",
       "       'Artifact', 'Planeswalker', 'Artifact Creature',\n",
       "       'Enchantment Creature', 'Tribal Sorcery', 'Artifact Land',\n",
       "       'Enchantment Artifact', 'Tribal Enchantment', 'Tribal Instant',\n",
       "       'Tribal Artifact', 'Land Creature', 'Enchantment Land', nan,\n",
       "       'Instant Creature'], dtype=object)"
      ]
     },
     "execution_count": 8,
     "metadata": {},
     "output_type": "execute_result"
    }
   ],
   "source": [
    "print('How many unique card types? ', len(data.cardType.unique()))\n",
    "data.cardType.unique()"
   ]
  },
  {
   "cell_type": "code",
   "execution_count": 9,
   "metadata": {},
   "outputs": [
    {
     "data": {
      "text/html": [
       "<div>\n",
       "<style scoped>\n",
       "    .dataframe tbody tr th:only-of-type {\n",
       "        vertical-align: middle;\n",
       "    }\n",
       "\n",
       "    .dataframe tbody tr th {\n",
       "        vertical-align: top;\n",
       "    }\n",
       "\n",
       "    .dataframe thead th {\n",
       "        text-align: right;\n",
       "    }\n",
       "</style>\n",
       "<table border=\"1\" class=\"dataframe\">\n",
       "  <thead>\n",
       "    <tr style=\"text-align: right;\">\n",
       "      <th></th>\n",
       "      <th>cardName</th>\n",
       "      <th>superType</th>\n",
       "      <th>cardType</th>\n",
       "      <th>subType</th>\n",
       "      <th>typeNum</th>\n",
       "      <th>manaCost</th>\n",
       "      <th>convertedMana</th>\n",
       "      <th>cardSet</th>\n",
       "      <th>rarity</th>\n",
       "      <th>rules</th>\n",
       "    </tr>\n",
       "  </thead>\n",
       "  <tbody>\n",
       "  </tbody>\n",
       "</table>\n",
       "</div>"
      ],
      "text/plain": [
       "Empty DataFrame\n",
       "Columns: [cardName, superType, cardType, subType, typeNum, manaCost, convertedMana, cardSet, rarity, rules]\n",
       "Index: []"
      ]
     },
     "execution_count": 9,
     "metadata": {},
     "output_type": "execute_result"
    }
   ],
   "source": [
    "data[data.cardName == 'Cat']"
   ]
  }
 ],
 "metadata": {
  "kernelspec": {
   "display_name": "Python 3",
   "language": "python",
   "name": "python3"
  },
  "language_info": {
   "codemirror_mode": {
    "name": "ipython",
    "version": 3
   },
   "file_extension": ".py",
   "mimetype": "text/x-python",
   "name": "python",
   "nbconvert_exporter": "python",
   "pygments_lexer": "ipython3",
   "version": "3.7.6"
  }
 },
 "nbformat": 4,
 "nbformat_minor": 4
}
